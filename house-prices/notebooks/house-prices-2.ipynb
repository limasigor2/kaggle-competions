{
 "cells": [
  {
   "cell_type": "code",
   "execution_count": 1,
   "metadata": {
    "collapsed": true
   },
   "outputs": [],
   "source": [
    "%matplotlib inline\n",
    "import numpy as np\n",
    "import pandas as pd\n",
    "import matplotlib.pylab as plt\n",
    "import seaborn as sns"
   ]
  },
  {
   "cell_type": "code",
   "execution_count": 2,
   "metadata": {
    "collapsed": true
   },
   "outputs": [],
   "source": [
    "%store -r data"
   ]
  },
  {
   "cell_type": "code",
   "execution_count": 3,
   "metadata": {},
   "outputs": [
    {
     "data": {
      "text/plain": [
       "Index(['Id', 'MSSubClass', 'MSZoning', 'LotFrontage', 'LotArea', 'Street',\n",
       "       'Alley', 'LotShape', 'LandContour', 'Utilities', 'LotConfig',\n",
       "       'LandSlope', 'Neighborhood', 'Condition1', 'Condition2', 'BldgType',\n",
       "       'HouseStyle', 'OverallQual', 'OverallCond', 'YearBuilt', 'YearRemodAdd',\n",
       "       'RoofStyle', 'RoofMatl', 'Exterior1st', 'Exterior2nd', 'MasVnrType',\n",
       "       'MasVnrArea', 'ExterQual', 'ExterCond', 'Foundation', 'BsmtQual',\n",
       "       'BsmtCond', 'BsmtExposure', 'BsmtFinType1', 'BsmtFinSF1',\n",
       "       'BsmtFinType2', 'BsmtFinSF2', 'BsmtUnfSF', 'TotalBsmtSF', 'Heating',\n",
       "       'HeatingQC', 'CentralAir', 'Electrical', '1stFlrSF', '2ndFlrSF',\n",
       "       'LowQualFinSF', 'GrLivArea', 'BsmtFullBath', 'BsmtHalfBath', 'FullBath',\n",
       "       'HalfBath', 'BedroomAbvGr', 'KitchenAbvGr', 'KitchenQual',\n",
       "       'TotRmsAbvGrd', 'Functional', 'Fireplaces', 'FireplaceQu', 'GarageType',\n",
       "       'GarageYrBlt', 'GarageFinish', 'GarageCars', 'GarageArea', 'GarageQual',\n",
       "       'GarageCond', 'PavedDrive', 'WoodDeckSF', 'OpenPorchSF',\n",
       "       'EnclosedPorch', '3SsnPorch', 'ScreenPorch', 'PoolArea', 'PoolQC',\n",
       "       'Fence', 'MiscFeature', 'MiscVal', 'MoSold', 'YrSold', 'SaleType',\n",
       "       'SaleCondition', 'SalePrice'],\n",
       "      dtype='object')"
      ]
     },
     "execution_count": 3,
     "metadata": {},
     "output_type": "execute_result"
    }
   ],
   "source": [
    "data.columns"
   ]
  },
  {
   "cell_type": "code",
   "execution_count": 18,
   "metadata": {},
   "outputs": [
    {
     "data": {
      "text/plain": [
       "Index(['Id', 'MSSubClass', 'LotFrontage', 'LotArea', 'OverallQual',\n",
       "       'OverallCond', 'YearBuilt', 'YearRemodAdd', 'MasVnrArea', 'BsmtFinSF1',\n",
       "       'BsmtFinSF2', 'BsmtUnfSF', 'TotalBsmtSF', '1stFlrSF', '2ndFlrSF',\n",
       "       'LowQualFinSF', 'GrLivArea', 'BsmtFullBath', 'BsmtHalfBath', 'FullBath',\n",
       "       'HalfBath', 'BedroomAbvGr', 'KitchenAbvGr', 'TotRmsAbvGrd',\n",
       "       'Fireplaces', 'GarageYrBlt', 'GarageCars', 'GarageArea', 'WoodDeckSF',\n",
       "       'OpenPorchSF', 'EnclosedPorch', '3SsnPorch', 'ScreenPorch', 'PoolArea',\n",
       "       'MiscVal', 'MoSold', 'YrSold', 'SalePrice'],\n",
       "      dtype='object')"
      ]
     },
     "execution_count": 18,
     "metadata": {},
     "output_type": "execute_result"
    }
   ],
   "source": [
    "data.select_dtypes(exclude=[\"object\"]).columns "
   ]
  },
  {
   "cell_type": "code",
   "execution_count": 17,
   "metadata": {},
   "outputs": [
    {
     "data": {
      "text/plain": [
       "0       RL\n",
       "1       RL\n",
       "2       RL\n",
       "3       RL\n",
       "4       RL\n",
       "5       RL\n",
       "6       RL\n",
       "7       RL\n",
       "8       RM\n",
       "9       RL\n",
       "10      RL\n",
       "11      RL\n",
       "12      RL\n",
       "13      RL\n",
       "14      RL\n",
       "15      RM\n",
       "16      RL\n",
       "17      RL\n",
       "18      RL\n",
       "19      RL\n",
       "20      RL\n",
       "21      RM\n",
       "22      RL\n",
       "23      RM\n",
       "24      RL\n",
       "25      RL\n",
       "26      RL\n",
       "27      RL\n",
       "28      RL\n",
       "29      RM\n",
       "        ..\n",
       "1430    RL\n",
       "1431    RL\n",
       "1432    RL\n",
       "1433    RL\n",
       "1434    RL\n",
       "1435    RL\n",
       "1436    RL\n",
       "1437    RL\n",
       "1438    RM\n",
       "1439    RL\n",
       "1440    RL\n",
       "1441    RM\n",
       "1442    FV\n",
       "1443    RL\n",
       "1444    RL\n",
       "1445    RL\n",
       "1446    RL\n",
       "1447    RL\n",
       "1448    RL\n",
       "1449    RM\n",
       "1450    RL\n",
       "1451    RL\n",
       "1452    RM\n",
       "1453    RL\n",
       "1454    FV\n",
       "1455    RL\n",
       "1456    RL\n",
       "1457    RL\n",
       "1458    RL\n",
       "1459    RL\n",
       "Name: MSZoning, Length: 1460, dtype: object"
      ]
     },
     "execution_count": 17,
     "metadata": {},
     "output_type": "execute_result"
    }
   ],
   "source": [
    "data['MSZoning']"
   ]
  },
  {
   "cell_type": "code",
   "execution_count": 19,
   "metadata": {},
   "outputs": [
    {
     "data": {
      "text/plain": [
       "0        60\n",
       "1        20\n",
       "2        60\n",
       "3        70\n",
       "4        60\n",
       "5        50\n",
       "6        20\n",
       "7        60\n",
       "8        50\n",
       "9       190\n",
       "10       20\n",
       "11       60\n",
       "12       20\n",
       "13       20\n",
       "14       20\n",
       "15       45\n",
       "16       20\n",
       "17       90\n",
       "18       20\n",
       "19       20\n",
       "20       60\n",
       "21       45\n",
       "22       20\n",
       "23      120\n",
       "24       20\n",
       "25       20\n",
       "26       20\n",
       "27       20\n",
       "28       20\n",
       "29       30\n",
       "       ... \n",
       "1430     60\n",
       "1431    120\n",
       "1432     30\n",
       "1433     60\n",
       "1434     20\n",
       "1435     20\n",
       "1436     20\n",
       "1437     20\n",
       "1438     20\n",
       "1439     60\n",
       "1440     70\n",
       "1441    120\n",
       "1442     60\n",
       "1443     30\n",
       "1444     20\n",
       "1445     85\n",
       "1446     20\n",
       "1447     60\n",
       "1448     50\n",
       "1449    180\n",
       "1450     90\n",
       "1451     20\n",
       "1452    180\n",
       "1453     20\n",
       "1454     20\n",
       "1455     60\n",
       "1456     20\n",
       "1457     70\n",
       "1458     20\n",
       "1459     20\n",
       "Name: MSSubClass, Length: 1460, dtype: int64"
      ]
     },
     "execution_count": 19,
     "metadata": {},
     "output_type": "execute_result"
    }
   ],
   "source": [
    "data['MSSubClass']"
   ]
  },
  {
   "cell_type": "code",
   "execution_count": null,
   "metadata": {
    "collapsed": true
   },
   "outputs": [],
   "source": []
  }
 ],
 "metadata": {
  "kernelspec": {
   "display_name": "Python 3",
   "language": "python",
   "name": "python3"
  },
  "language_info": {
   "codemirror_mode": {
    "name": "ipython",
    "version": 3
   },
   "file_extension": ".py",
   "mimetype": "text/x-python",
   "name": "python",
   "nbconvert_exporter": "python",
   "pygments_lexer": "ipython3",
   "version": "3.6.2"
  }
 },
 "nbformat": 4,
 "nbformat_minor": 2
}
