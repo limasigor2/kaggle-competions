{
 "cells": [
  {
   "cell_type": "code",
   "execution_count": 23,
   "metadata": {
    "collapsed": true
   },
   "outputs": [],
   "source": [
    "import numpy as np\n",
    "import pandas as pd\n",
    "\n",
    "from keras import backend as K\n",
    "from keras.models import Sequential, Model\n",
    "from keras.layers import Dense, Activation, Flatten, Lambda, Conv2D\n",
    "from keras.layers import GlobalAveragePooling2D, Input, Dropout\n",
    "from keras.layers.convolutional import MaxPooling2D\n",
    "from keras.models import Model, load_model\n",
    "from keras.preprocessing import image\n",
    "\n",
    "from keras.optimizers import Adam, RMSprop, SGD\n",
    "import urllib\n",
    "from os.path import join\n",
    "from sklearn import model_selection\n",
    "from sklearn import metrics"
   ]
  },
  {
   "cell_type": "code",
   "execution_count": 9,
   "metadata": {
    "collapsed": true
   },
   "outputs": [],
   "source": [
    "path = '/home/igor/projetos/kaggle/Dog_Breed_Identification/input/'\n",
    "model_path = path + 'vgg16_weights_tf_dim_ordering_tf_kernels.h5'\n",
    "target_size = (224,224)\n",
    "NUM_CLASSES = 10\n",
    "INPUT_SIZE = 224\n",
    "BATCH_SIZE = 32\n",
    "EPOCHS = 10\n",
    "SEED = 1998"
   ]
  },
  {
   "cell_type": "code",
   "execution_count": 10,
   "metadata": {
    "collapsed": true
   },
   "outputs": [],
   "source": [
    "def preprocess_img(img):\n",
    "    vgg_mean = np.array([123.68, 116.779, 103.939], dtype=(np.float32))\n",
    "    img = (img - vgg_mean)\n",
    "    return img[:, ::-1] # BGR"
   ]
  },
  {
   "cell_type": "markdown",
   "metadata": {},
   "source": [
    "### Criando modelo"
   ]
  },
  {
   "cell_type": "code",
   "execution_count": 11,
   "metadata": {
    "collapsed": true
   },
   "outputs": [],
   "source": [
    "def create_vgg16(x=None):\n",
    "    model = Sequential()\n",
    "    \n",
    "    # layer to preprocess images\n",
    "    model.add(Lambda(preprocess_img, input_shape=(224,224,3), output_shape=(224,224,3)))\n",
    "    #Conv2D(64, kernel_size=(3,3), input_shape=(224,224,3), activation='relu', padding='same')\n",
    "    # conv block 1\n",
    "    model.add(Conv2D(64, kernel_size=(3,3), input_shape=(224,224,3), activation='relu', padding='same'))\n",
    "    model.add(Conv2D(64, kernel_size=(3,3), activation='relu', padding='same'))\n",
    "    model.add(MaxPooling2D(pool_size=(2,2), strides=(2,2)))\n",
    "    \n",
    "    # conv block 2\n",
    "    model.add(Conv2D(128, kernel_size=(3,3), activation='relu', padding='same'))\n",
    "    model.add(Conv2D(128, kernel_size=(3,3), activation='relu', padding='same'))\n",
    "    model.add(MaxPooling2D(pool_size=(2,2), strides=(2,2)))\n",
    "    \n",
    "    # conv block 3\n",
    "    model.add(Conv2D(256, kernel_size=(3,3), activation='relu', padding='same'))\n",
    "    model.add(Conv2D(256, kernel_size=(3,3), activation='relu', padding='same'))\n",
    "    model.add(Conv2D(256, kernel_size=(3,3), activation='relu', padding='same'))\n",
    "    model.add(MaxPooling2D(pool_size=(2,2), strides=(2,2)))\n",
    "    \n",
    "    # conv block 4\n",
    "    model.add(Conv2D(512, kernel_size=(3,3), activation='relu', padding='same'))\n",
    "    model.add(Conv2D(512, kernel_size=(3,3), activation='relu', padding='same'))\n",
    "    model.add(Conv2D(512, kernel_size=(3,3), activation='relu', padding='same'))\n",
    "    model.add(MaxPooling2D(pool_size=(2,2), strides=(2,2)))\n",
    "    \n",
    "    # conv block 5\n",
    "    model.add(Conv2D(512, kernel_size=(3,3), activation='relu', padding='same'))\n",
    "    model.add(Conv2D(512, kernel_size=(3,3), activation='relu', padding='same'))\n",
    "    model.add(Conv2D(512, kernel_size=(3,3), activation='relu', padding='same'))\n",
    "    model.add(MaxPooling2D(pool_size=(2,2), strides=(2,2)))\n",
    "    \n",
    "    # Fully Connected\n",
    "    model.add(Flatten())\n",
    "    model.add(Dense(4096, activation='relu'))\n",
    "    model.add(Dense(4096, activation='relu'))\n",
    "    model.add(Dense(1000, activation='softmax'))\n",
    "    \n",
    "    return model"
   ]
  },
  {
   "cell_type": "markdown",
   "metadata": {},
   "source": [
    "### Preparando Input"
   ]
  },
  {
   "cell_type": "code",
   "execution_count": 12,
   "metadata": {
    "collapsed": true
   },
   "outputs": [],
   "source": [
    "def read_img(img_id, train_or_test, size):\n",
    "    \"\"\"Read and resize image.\n",
    "    # Arguments\n",
    "        img_id: string\n",
    "        train_or_test: string 'train' or 'test'.\n",
    "        size: resize the original image.\n",
    "    # Returns\n",
    "        Image as numpy array.\n",
    "    \"\"\"\n",
    "    img = image.load_img(join(path, train_or_test, '%s.jpg' % img_id), target_size=size)\n",
    "    img = image.img_to_array(img)\n",
    "    return img"
   ]
  },
  {
   "cell_type": "code",
   "execution_count": 13,
   "metadata": {
    "collapsed": true
   },
   "outputs": [],
   "source": [
    "labels = pd.read_csv('input/labels.csv')\n",
    "submissao = pd.read_csv('input/sample_submission.csv')"
   ]
  },
  {
   "cell_type": "code",
   "execution_count": 14,
   "metadata": {},
   "outputs": [
    {
     "name": "stdout",
     "output_type": "stream",
     "text": [
      "10222\n",
      "10357\n"
     ]
    }
   ],
   "source": [
    "print(labels.shape[0])\n",
    "print(submissao.shape[0])"
   ]
  },
  {
   "cell_type": "code",
   "execution_count": 15,
   "metadata": {},
   "outputs": [
    {
     "data": {
      "text/plain": [
       "['scottish_deerhound',\n",
       " 'maltese_dog',\n",
       " 'afghan_hound',\n",
       " 'entlebucher',\n",
       " 'bernese_mountain_dog',\n",
       " 'shih-tzu',\n",
       " 'great_pyrenees',\n",
       " 'pomeranian',\n",
       " 'basenji',\n",
       " 'samoyed']"
      ]
     },
     "execution_count": 15,
     "metadata": {},
     "output_type": "execute_result"
    }
   ],
   "source": [
    "selected_breeds = list(labels.groupby('breed').count().sort_values(by='id', ascending=False).head(NUM_CLASSES).index)\n",
    "selected_breeds"
   ]
  },
  {
   "cell_type": "code",
   "execution_count": 16,
   "metadata": {
    "collapsed": true
   },
   "outputs": [],
   "source": [
    "labels = labels[labels['breed'].isin(selected_breeds)]"
   ]
  },
  {
   "cell_type": "code",
   "execution_count": 17,
   "metadata": {
    "collapsed": true
   },
   "outputs": [],
   "source": [
    "labels['value'] = 0\n",
    "# labels['rank'] = labels.groupby('breed').rank()['id']"
   ]
  },
  {
   "cell_type": "code",
   "execution_count": 18,
   "metadata": {
    "collapsed": true,
    "scrolled": false
   },
   "outputs": [],
   "source": [
    "labels_pivot = labels.pivot(index='id', columns='breed', values='value').reset_index().fillna(0)\n",
    "labels_pivot = labels_pivot.set_index('id')"
   ]
  },
  {
   "cell_type": "code",
   "execution_count": 19,
   "metadata": {
    "collapsed": true
   },
   "outputs": [],
   "source": [
    "train_data = []\n",
    "target = pd.DataFrame(columns=selected_breeds)"
   ]
  },
  {
   "cell_type": "code",
   "execution_count": 20,
   "metadata": {
    "collapsed": true
   },
   "outputs": [],
   "source": [
    "for x in labels.values:\n",
    "    train_data.append(read_img(x[0], 'train', (224,224)))\n",
    "    target.loc[target.shape[0]] = [0,0,0,0,0,0,0,0,0,0]  \n",
    "    target.loc[target.shape[0]-1][str(x[1])] = 1"
   ]
  },
  {
   "cell_type": "code",
   "execution_count": 21,
   "metadata": {
    "collapsed": true
   },
   "outputs": [],
   "source": [
    "initial_model = create_vgg16()\n",
    "initial_model.load_weights(model_path)\n",
    "\n",
    "# Truncate and replace softmax layer for transfer learning\n",
    "x = Dense(10, activation='softmax')(initial_model.layers[-2].output)\n",
    "model = Model(initial_model.input, x)\n",
    "\n",
    "\n",
    "for layer in model.layers[:10]:\n",
    "    layer.trainable = False\n",
    "for layer in model.layers[10:]:\n",
    "    layer.trainable = True\n",
    "    \n",
    "opt = SGD(lr=10e-5)\n",
    "model.compile(optimizer=opt,\n",
    "              loss='categorical_crossentropy', \n",
    "              metrics=['accuracy'])"
   ]
  },
  {
   "cell_type": "code",
   "execution_count": 22,
   "metadata": {
    "collapsed": true
   },
   "outputs": [],
   "source": [
    "X_train, X_test, y_train, y_test = model_selection.train_test_split(np.array(train_data),np.array(target),test_size=0.33, random_state=42)"
   ]
  },
  {
   "cell_type": "code",
   "execution_count": null,
   "metadata": {
    "collapsed": true
   },
   "outputs": [],
   "source": [
    "del train_data\n",
    "del target"
   ]
  },
  {
   "cell_type": "code",
   "execution_count": null,
   "metadata": {
    "scrolled": true
   },
   "outputs": [
    {
     "name": "stdout",
     "output_type": "stream",
     "text": [
      "Epoch 1/10\n",
      "764/764 [==============================] - 1596s 2s/step - loss: 2.4014 - acc: 0.2134\n",
      "Epoch 2/10\n",
      "764/764 [==============================] - 1486s 2s/step - loss: 1.5770 - acc: 0.4647\n",
      "Epoch 3/10\n",
      "764/764 [==============================] - 1492s 2s/step - loss: 1.0931 - acc: 0.6754\n",
      "Epoch 4/10\n",
      "764/764 [==============================] - 3206s 4s/step - loss: 0.7370 - acc: 0.8010\n",
      "Epoch 5/10\n",
      "342/764 [============>.................] - ETA: 25:42 - loss: 0.5285 - acc: 0.8947"
     ]
    }
   ],
   "source": [
    "#model.fit(X_train, y=y_train,batch_size=BATCH_SIZE, epochs=EPOCHS)"
   ]
  },
  {
   "cell_type": "code",
   "execution_count": null,
   "metadata": {
    "collapsed": true
   },
   "outputs": [],
   "source": [
    "del X_train\n",
    "del y_train"
   ]
  },
  {
   "cell_type": "code",
   "execution_count": null,
   "metadata": {
    "collapsed": true
   },
   "outputs": [],
   "source": [
    "y_pred = model.predict(X_test, batch_size=BATCH_SIZE)"
   ]
  },
  {
   "cell_type": "code",
   "execution_count": null,
   "metadata": {
    "collapsed": true
   },
   "outputs": [],
   "source": [
    "accuracy = metrics.accuracy_score(y_test, y_pred)"
   ]
  },
  {
   "cell_type": "code",
   "execution_count": null,
   "metadata": {
    "collapsed": true
   },
   "outputs": [],
   "source": [
    "print(accuracy)"
   ]
  }
 ],
 "metadata": {
  "kernelspec": {
   "display_name": "Python 3",
   "language": "python",
   "name": "python3"
  },
  "language_info": {
   "codemirror_mode": {
    "name": "ipython",
    "version": 3
   },
   "file_extension": ".py",
   "mimetype": "text/x-python",
   "name": "python",
   "nbconvert_exporter": "python",
   "pygments_lexer": "ipython3",
   "version": "3.6.3"
  }
 },
 "nbformat": 4,
 "nbformat_minor": 2
}
